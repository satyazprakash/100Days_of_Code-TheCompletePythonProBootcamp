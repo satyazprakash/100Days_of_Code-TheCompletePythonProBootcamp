{
  "nbformat": 4,
  "nbformat_minor": 0,
  "metadata": {
    "colab": {
      "provenance": [],
      "authorship_tag": "ABX9TyPeejZp9h19TfI3oelftCtP",
      "include_colab_link": true
    },
    "kernelspec": {
      "name": "python3",
      "display_name": "Python 3"
    },
    "language_info": {
      "name": "python"
    }
  },
  "cells": [
    {
      "cell_type": "markdown",
      "metadata": {
        "id": "view-in-github",
        "colab_type": "text"
      },
      "source": [
        "<a href=\"https://colab.research.google.com/github/satyazprakash/100Days_of_Code-TheCompletePythonProBootcamp/blob/main/Day3_Python_Pizza_Delivery_v1.ipynb\" target=\"_parent\"><img src=\"https://colab.research.google.com/assets/colab-badge.svg\" alt=\"Open In Colab\"/></a>"
      ]
    },
    {
      "cell_type": "code",
      "execution_count": null,
      "metadata": {
        "id": "-9G8RYQS4kZe"
      },
      "outputs": [],
      "source": [
        "print(\"Welcome to Python Pizza Deliveries!\")\n",
        "size = input(\"What size pizza do you want? S, M or L: \")\n",
        "pepperoni = input(\"Do you want pepperoni on your pizza? Y or N: \")\n",
        "extra_cheese = input(\"Do you want extra cheese? Y or N: \")\n",
        "bill=0\n",
        "\n",
        "if size == 'S':\n",
        "    bill += 15\n",
        "\n",
        "elif size == 'M':\n",
        "    bill += 20\n",
        "\n",
        "elif size == \"L\":\n",
        "    bill += 25\n",
        "\n",
        "else:\n",
        "    print(\"You type the wrong input: \")\n",
        "\n",
        "if pepperoni =='Y':\n",
        "    if size == 'S':\n",
        "        bill += 2\n",
        "    else:\n",
        "        bill += 3\n",
        "if extra_cheese == 'Y':\n",
        "    bill += 1\n",
        "\n",
        "print(f\"Your final bill is: ${bill}.\")\n"
      ]
    }
  ]
}