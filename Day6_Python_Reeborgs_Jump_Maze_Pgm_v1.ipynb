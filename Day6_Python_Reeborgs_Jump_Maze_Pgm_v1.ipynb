{
  "nbformat": 4,
  "nbformat_minor": 0,
  "metadata": {
    "colab": {
      "provenance": [],
      "authorship_tag": "ABX9TyMFXPU8+iNjVmhaqYUx3m9W",
      "include_colab_link": true
    },
    "kernelspec": {
      "name": "python3",
      "display_name": "Python 3"
    },
    "language_info": {
      "name": "python"
    }
  },
  "cells": [
    {
      "cell_type": "markdown",
      "metadata": {
        "id": "view-in-github",
        "colab_type": "text"
      },
      "source": [
        "<a href=\"https://colab.research.google.com/github/satyazprakash/100Days_of_Code-TheCompletePythonProBootcamp/blob/main/Day6_Python_Reeborgs_Jump_Maze_Pgm_v1.ipynb\" target=\"_parent\"><img src=\"https://colab.research.google.com/assets/colab-badge.svg\" alt=\"Open In Colab\"/></a>"
      ]
    },
    {
      "cell_type": "code",
      "source": [
        "# Reeborgs Program Maze  , my code\n",
        "# https://reeborg.ca/reeborg.html?lang=en&mode=python&menu=worlds%2Fmenus%2Freeborg_intro_en.json&name=Maze&url=worlds%2Ftutorial_en%2Fmaze1.json\n",
        "\n",
        "\n",
        "def turn_right():\n",
        "    turn_left()\n",
        "    turn_left()\n",
        "    turn_left()\n",
        "\n",
        "while not at_goal():\n",
        "    if right_is_clear() == True:\n",
        "        turn_right()\n",
        "        move()\n",
        "    elif front_is_clear() == True:\n",
        "        move()\n",
        "    elif wall_in_front() == True & wall_on_right() == True:\n",
        "        turn_left()\n",
        "    elif wall_on_right() == True:\n",
        "        turn_left()\n",
        "    else:\n",
        "        move()\n",
        "\n",
        ""
      ],
      "metadata": {
        "id": "w2W4_2DxMxee"
      },
      "execution_count": null,
      "outputs": []
    }
  ]
}