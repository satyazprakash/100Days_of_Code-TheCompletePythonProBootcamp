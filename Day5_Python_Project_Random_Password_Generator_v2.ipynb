{
  "nbformat": 4,
  "nbformat_minor": 0,
  "metadata": {
    "colab": {
      "provenance": [],
      "authorship_tag": "ABX9TyM26hyd2qCHoYsgSmLt6LUg",
      "include_colab_link": true
    },
    "kernelspec": {
      "name": "python3",
      "display_name": "Python 3"
    },
    "language_info": {
      "name": "python"
    }
  },
  "cells": [
    {
      "cell_type": "markdown",
      "metadata": {
        "id": "view-in-github",
        "colab_type": "text"
      },
      "source": [
        "<a href=\"https://colab.research.google.com/github/satyazprakash/100Days_of_Code-TheCompletePythonProBootcamp/blob/main/Day5_Python_Project_Random_Password_Generator_v2.ipynb\" target=\"_parent\"><img src=\"https://colab.research.google.com/assets/colab-badge.svg\" alt=\"Open In Colab\"/></a>"
      ]
    },
    {
      "cell_type": "code",
      "execution_count": 28,
      "metadata": {
        "colab": {
          "base_uri": "https://localhost:8080/"
        },
        "id": "2Azo5RfMAJ_1",
        "outputId": "12787c6b-08dc-4b77-e2a3-73aa9a758d2f"
      },
      "outputs": [
        {
          "output_type": "stream",
          "name": "stdout",
          "text": [
            "Welcome to the PyPassword Generator!\n",
            "How many letters would you like in your password?\n",
            "9\n",
            "How many symbols would you like?\n",
            "4\n",
            "How many numbers would you like?\n",
            "3\n",
            "['f', 'X', 'Q', 'f', 'l', 'i', 'M', 'p', 'k', '!', '*', '#', '!', '4', '0', '4']\n",
            "['p', 'f', '!', '4', 'k', 'l', 'f', 'i', '!', '*', '0', '4', 'Q', '#', 'M', 'X']\n",
            "Your password is: pf!4klfi!*04Q#MX\n"
          ]
        }
      ],
      "source": [
        "import random\n",
        "letters = ['a', 'b', 'c', 'd', 'e', 'f', 'g', 'h', 'i', 'j', 'k', 'l', 'm', 'n', 'o', 'p', 'q', 'r', 's', 't', 'u', 'v', 'w', 'x', 'y', 'z', 'A', 'B', 'C', 'D', 'E', 'F', 'G', 'H', 'I', 'J', 'K', 'L', 'M', 'N', 'O', 'P', 'Q', 'R', 'S', 'T', 'U', 'V', 'W', 'X', 'Y', 'Z']\n",
        "numbers = ['0', '1', '2', '3', '4', '5', '6', '7', '8', '9']\n",
        "symbols = ['!', '#', '$', '%', '&', '(', ')', '*', '+']\n",
        "\n",
        "print(\"Welcome to the PyPassword Generator!\")\n",
        "nr_letters = int(input(\"How many letters would you like in your password?\\n\"))\n",
        "nr_symbols = int(input(f\"How many symbols would you like?\\n\"))\n",
        "nr_numbers = int(input(f\"How many numbers would you like?\\n\"))\n",
        "\n",
        "# Easy Level\n",
        "# password = \"\"\n",
        "# for char in range(0, nr_letters):\n",
        "#     password += random.choice(letters)\n",
        "#\n",
        "# for char in range(0, nr_symbols):\n",
        "#     password += random.choice(symbols)\n",
        "#\n",
        "# for char in range(0, nr_numbers):\n",
        "#     password += random.choice(numbers)\n",
        "#\n",
        "# print(password)\n",
        "\n",
        "# Hard level\n",
        "password_list = []\n",
        "for char in range(0, nr_letters):\n",
        "    password_list.append(random.choice(letters))\n",
        "\n",
        "for char in range(0, nr_symbols):\n",
        "    password_list.append(random.choice(symbols))\n",
        "\n",
        "for char in range(0, nr_numbers):\n",
        "    password_list.append(random.choice(numbers))\n",
        "\n",
        "print(password_list)\n",
        "random.shuffle(password_list)\n",
        "print(password_list)\n",
        "\n",
        "password = \"\"\n",
        "for char in password_list:\n",
        "    password += char\n",
        "\n",
        "print(f\"Your password is: {password}\")"
      ]
    }
  ]
}