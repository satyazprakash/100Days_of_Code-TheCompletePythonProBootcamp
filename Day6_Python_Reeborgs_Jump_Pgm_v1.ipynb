{
  "nbformat": 4,
  "nbformat_minor": 0,
  "metadata": {
    "colab": {
      "provenance": [],
      "authorship_tag": "ABX9TyNfbKtx6c04qxk1NxQ8r/Xz",
      "include_colab_link": true
    },
    "kernelspec": {
      "name": "python3",
      "display_name": "Python 3"
    },
    "language_info": {
      "name": "python"
    }
  },
  "cells": [
    {
      "cell_type": "markdown",
      "metadata": {
        "id": "view-in-github",
        "colab_type": "text"
      },
      "source": [
        "<a href=\"https://colab.research.google.com/github/satyazprakash/100Days_of_Code-TheCompletePythonProBootcamp/blob/main/Day6_Python_Reeborgs_Jump_Pgm_v1.ipynb\" target=\"_parent\"><img src=\"https://colab.research.google.com/assets/colab-badge.svg\" alt=\"Open In Colab\"/></a>"
      ]
    },
    {
      "cell_type": "code",
      "execution_count": null,
      "metadata": {
        "id": "ZL22XWSVsbbJ"
      },
      "outputs": [],
      "source": [
        "# Reeborgs Jump program to reach the final stage.\n",
        "# https://reeborg.ca/reeborg.html?lang=en&mode=python&menu=worlds%2Fmenus%2Freeborg_intro_en.json&name=Hurdle%201&url=worlds%2Ftutorial_en%2Fhurdle1.json\n",
        "\n",
        "def turn_right():\n",
        "    turn_left()\n",
        "    turn_left()\n",
        "    turn_left()\n",
        "\n",
        "def jump():\n",
        "    move()\n",
        "    turn_left()\n",
        "    move()\n",
        "    turn_right()\n",
        "    move()\n",
        "    turn_right()\n",
        "    move()\n",
        "    turn_left()\n",
        "\n",
        "# jump()\n",
        "# jump()\n",
        "# jump()\n",
        "# jump()\n",
        "# jump()\n",
        "# jump()\n",
        "\n",
        "\n",
        "for i in range (6):\n",
        "  jump()"
      ]
    },
    {
      "cell_type": "code",
      "source": [
        "# Reeborgs  MOve 1 step Turn right and come to original Position in end\n",
        "# # https://reeborg.ca/reeborg.html?lang=en&mode=python&menu=worlds%2Fmenus%2Freeborg_intro_en.json&name=Alone&url=worlds%2Ftutorial_en%2Falone.json\n",
        "\n",
        "\n",
        "def turn_right():\n",
        "    turn_left()\n",
        "    turn_left()\n",
        "    turn_left()\n",
        "\n",
        "turn_left()\n",
        "move()\n",
        "turn_right()\n",
        "move()\n",
        "turn_right()\n",
        "move()\n",
        "turn_right()\n",
        "move()"
      ],
      "metadata": {
        "id": "NxIrjUGys0p3"
      },
      "execution_count": null,
      "outputs": []
    }
  ]
}