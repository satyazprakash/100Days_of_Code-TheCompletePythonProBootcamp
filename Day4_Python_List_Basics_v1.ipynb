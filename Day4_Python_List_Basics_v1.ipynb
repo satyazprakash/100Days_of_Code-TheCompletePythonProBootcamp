{
  "nbformat": 4,
  "nbformat_minor": 0,
  "metadata": {
    "colab": {
      "provenance": [],
      "authorship_tag": "ABX9TyNgkU965OjCxpCOEvkxWYz0",
      "include_colab_link": true
    },
    "kernelspec": {
      "name": "python3",
      "display_name": "Python 3"
    },
    "language_info": {
      "name": "python"
    }
  },
  "cells": [
    {
      "cell_type": "markdown",
      "metadata": {
        "id": "view-in-github",
        "colab_type": "text"
      },
      "source": [
        "<a href=\"https://colab.research.google.com/github/satyazprakash/100Days_of_Code-TheCompletePythonProBootcamp/blob/main/Day4_Python_List_Basics_v1.ipynb\" target=\"_parent\"><img src=\"https://colab.research.google.com/assets/colab-badge.svg\" alt=\"Open In Colab\"/></a>"
      ]
    },
    {
      "cell_type": "code",
      "execution_count": null,
      "metadata": {
        "id": "BIs8bnYApHxf"
      },
      "outputs": [],
      "source": [
        "# Lists\n",
        "fruits = [\"Cherry\",\"Apple\",\"Pear\"]\n",
        "\n",
        "# Modifying existing element of the list.\n",
        "\n",
        "fruits[0] = \"Orange\"\n",
        "print(fruits)\n",
        "\n",
        "fruits = [\"Cherry\",\"Apple\",\"Pear\"]\n",
        "fruits.append(\"Orange\")\n",
        "print(fruits)\n",
        "\n",
        "states_of_america = [\"Delaware\", \"Pennsylvania\", \"New Jersey\", \"Georgia\", \"Connecticut\", \"Massachusetts\", \"Maryland\", \"South Carolina\", \"New Hampshire\", \"Virginia\", \"New York\", \"North Carolina\", \"Rhode Island\", \"Vermont\", \"Kentucky\", \"Tennessee\", \"Ohio\", \"Louisiana\", \"Indiana\", \"Mississippi\", \"Illinois\", \"Alabama\", \"Maine\", \"Missouri\", \"Arkansas\", \"Michigan\", \"Florida\", \"Texas\", \"Iowa\", \"Wisconsin\", \"California\", \"Minnesota\", \"Oregon\", \"Kansas\", \"West Virginia\", \"Nevada\", \"Nebraska\", \"Colorado\", \"North Dakota\", \"South Dakota\", \"Montana\", \"Washington\", \"Idaho\", \"Wyoming\", \"Utah\", \"Oklahoma\", \"New Mexico\", \"Arizona\", \"Alaska\", \"Hawaii\"]\n",
        "\n",
        "print(states_of_america[0])\n",
        "print(states_of_america[1])\n",
        "print(states_of_america[2])\n",
        "print(states_of_america[3])\n",
        "print(states_of_america[4])\n",
        "print(states_of_america[5])\n",
        "\n",
        "print(states_of_america[-1])\n",
        "print(states_of_america[-2])\n",
        "print(states_of_america[-3])\n",
        "\n",
        "# Added one TestState at the end of the list.\n",
        "\n",
        "states_of_america.append(\"TestState\")\n",
        "print(states_of_america[-1])\n"
      ]
    }
  ]
}