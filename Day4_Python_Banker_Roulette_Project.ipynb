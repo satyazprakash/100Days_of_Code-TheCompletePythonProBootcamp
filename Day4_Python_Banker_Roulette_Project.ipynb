{
  "nbformat": 4,
  "nbformat_minor": 0,
  "metadata": {
    "colab": {
      "provenance": [],
      "authorship_tag": "ABX9TyNVMaGZ/0sK5fKTIxXUaNjL",
      "include_colab_link": true
    },
    "kernelspec": {
      "name": "python3",
      "display_name": "Python 3"
    },
    "language_info": {
      "name": "python"
    }
  },
  "cells": [
    {
      "cell_type": "markdown",
      "metadata": {
        "id": "view-in-github",
        "colab_type": "text"
      },
      "source": [
        "<a href=\"https://colab.research.google.com/github/satyazprakash/100Days_of_Code-TheCompletePythonProBootcamp/blob/main/Day4_Python_Banker_Roulette_Project.ipynb\" target=\"_parent\"><img src=\"https://colab.research.google.com/assets/colab-badge.svg\" alt=\"Open In Colab\"/></a>"
      ]
    },
    {
      "cell_type": "code",
      "execution_count": 1,
      "metadata": {
        "colab": {
          "base_uri": "https://localhost:8080/"
        },
        "id": "jhwPkA3ZF8g4",
        "outputId": "3e60b378-d5c9-4d84-e1d5-9d23ccc6bc30"
      },
      "outputs": [
        {
          "output_type": "stream",
          "name": "stdout",
          "text": [
            "David\n",
            "Today is turn of David turn to pay.\n"
          ]
        }
      ],
      "source": [
        "# importing Random Module\n",
        "import random as rand\n",
        "\n",
        "# list of frieds in a list\n",
        "friends = [\"Alice\", \"Bob\", \"Charlie\", \"David\", \"Emanuel\"]\n",
        "\n",
        "whose_turn = rand.randint(0,4)\n",
        "print(friends[whose_turn])\n",
        "print(f\"Today is turn of {friends[whose_turn]} turn to pay.\")\n",
        "\n",
        "# Selecting Random name of person from the list using randint function.\n"
      ]
    }
  ]
}