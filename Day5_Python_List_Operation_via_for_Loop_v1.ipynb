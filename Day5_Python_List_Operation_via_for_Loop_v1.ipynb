{
  "cells": [
    {
      "cell_type": "markdown",
      "metadata": {
        "id": "view-in-github",
        "colab_type": "text"
      },
      "source": [
        "<a href=\"https://colab.research.google.com/github/satyazprakash/100Days_of_Code-TheCompletePythonProBootcamp/blob/main/Day5_Python_List_Operation_via_for_Loop_v1.ipynb\" target=\"_parent\"><img src=\"https://colab.research.google.com/assets/colab-badge.svg\" alt=\"Open In Colab\"/></a>"
      ]
    },
    {
      "cell_type": "code",
      "execution_count": 2,
      "metadata": {
        "colab": {
          "base_uri": "https://localhost:8080/"
        },
        "id": "nxtl_Zmvi7vT",
        "outputId": "6c53419d-c988-4e78-dec0-06df5ac5bcee"
      },
      "outputs": [
        {
          "output_type": "stream",
          "name": "stdout",
          "text": [
            "range(1, 10)\n",
            "Sum of all the student scores via first mothod is :2068 \n",
            "Sum of all the student scored via second method: 2068\n",
            "Max Score calculated in the student list is 199\n",
            "Min Score calculated in the student list is 0\n"
          ]
        }
      ],
      "source": [
        "student_scores = [150, 142, 185, 120, 171, 184, 149, 24, 59, 68, 199, 78, 65, 89, 86, 55, 91, 64, 89]\n",
        "print(range(1, 10))\n",
        "\n",
        "# Way 1\n",
        "scores_total = sum(student_scores)\n",
        "\n",
        "print(f\"Sum of all the student scores via first mothod is :{scores_total} \")\n",
        "\n",
        "# Way 2\n",
        "loop_scores_total=0\n",
        "for score in student_scores:\n",
        "    loop_scores_total = loop_scores_total + score\n",
        "\n",
        "print(f\"Sum of all the student scored via second method: {loop_scores_total}\")\n",
        "\n",
        "#-------------\n",
        "# repllicating max and min function\n",
        "\n",
        "max_score=0\n",
        "min_score=0\n",
        "\n",
        "for score in student_scores:\n",
        "    if score > max_score:\n",
        "        max_score = score\n",
        "    elif score < min_score:\n",
        "        min_score = score\n",
        "\n",
        "print(f\"Max Score calculated in the student list is {max_score}\")\n",
        "print(f\"Min Score calculated in the student list is {min_score}\")\n"
      ]
    }
  ],
  "metadata": {
    "colab": {
      "provenance": [],
      "authorship_tag": "ABX9TyO4coVf7rz3TGfepL2gywP6",
      "include_colab_link": true
    },
    "kernelspec": {
      "display_name": "Python 3",
      "name": "python3"
    },
    "language_info": {
      "name": "python"
    }
  },
  "nbformat": 4,
  "nbformat_minor": 0
}