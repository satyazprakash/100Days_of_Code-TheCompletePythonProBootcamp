{
  "nbformat": 4,
  "nbformat_minor": 0,
  "metadata": {
    "colab": {
      "provenance": [],
      "authorship_tag": "ABX9TyNP9jEL78Ri3+7kWUDt9qWc",
      "include_colab_link": true
    },
    "kernelspec": {
      "name": "python3",
      "display_name": "Python 3"
    },
    "language_info": {
      "name": "python"
    }
  },
  "cells": [
    {
      "cell_type": "markdown",
      "metadata": {
        "id": "view-in-github",
        "colab_type": "text"
      },
      "source": [
        "<a href=\"https://colab.research.google.com/github/satyazprakash/100Days_of_Code-TheCompletePythonProBootcamp/blob/main/Day5_Python_Project_Random_Password_Generator_v1.ipynb\" target=\"_parent\"><img src=\"https://colab.research.google.com/assets/colab-badge.svg\" alt=\"Open In Colab\"/></a>"
      ]
    },
    {
      "cell_type": "code",
      "execution_count": 27,
      "metadata": {
        "colab": {
          "base_uri": "https://localhost:8080/"
        },
        "id": "2Azo5RfMAJ_1",
        "outputId": "cb0789ea-d55f-49af-9a1c-2ef944ba54d6"
      },
      "outputs": [
        {
          "output_type": "stream",
          "name": "stdout",
          "text": [
            "Welcome to the PyPassword Generator!\n",
            "How many letters would you like in your password?\n",
            "8\n",
            "How many symbols would you like?\n",
            "4\n",
            "How many numbers would you like?\n",
            "3\n",
            "Printing of EASY Password below:\n",
            "kwqbJOFz)$+(882\n",
            "\n",
            "Printing of hard password below:\n",
            "&YdfD*K#K7gM73&\n"
          ]
        }
      ],
      "source": [
        "letters = ['a', 'b', 'c', 'd', 'e', 'f', 'g', 'h', 'i', 'j', 'k', 'l', 'm', 'n', 'o', 'p', 'q', 'r', 's', 't', 'u', 'v', 'w', 'x', 'y', 'z', 'A', 'B', 'C', 'D', 'E', 'F', 'G', 'H', 'I', 'J', 'K', 'L', 'M', 'N', 'O', 'P', 'Q', 'R', 'S', 'T', 'U', 'V', 'W', 'X', 'Y', 'Z']\n",
        "numbers = ['0', '1', '2', '3', '4', '5', '6', '7', '8', '9']\n",
        "symbols = ['!', '#', '$', '%', '&', '(', ')', '*', '+']\n",
        "\n",
        "print(\"Welcome to the PyPassword Generator!\")\n",
        "nr_letters = int(input(\"How many letters would you like in your password?\\n\"))\n",
        "nr_symbols = int(input(f\"How many symbols would you like?\\n\"))\n",
        "nr_numbers = int(input(f\"How many numbers would you like?\\n\"))\n",
        "\n",
        "import random\n",
        "\n",
        "print(\"Printing of EASY Password below:\")\n",
        "\n",
        "# Easy Level\n",
        "for i in range (0,nr_letters):\n",
        "    print(random.choice(letters), end=\"\")\n",
        "\n",
        "for i in range(0, nr_symbols):\n",
        "    print(random.choice(symbols), end=\"\")\n",
        "\n",
        "for i in range(0, nr_numbers):\n",
        "    print(random.choice(numbers), end=\"\")\n",
        "\n",
        "\n",
        "# Hard Level\n",
        "\n",
        "# printing of hard password below\n",
        "\n",
        "print(\"\\n\\nPrinting of hard password below:\")\n",
        "\n",
        "hard_pass = []\n",
        "\n",
        "for i in range (0,nr_letters):\n",
        "    hard_pass.append(random.choice(letters))\n",
        "\n",
        "for i in range(0, nr_symbols):\n",
        "    hard_pass.append(random.choice(symbols))\n",
        "\n",
        "for i in range(0, nr_numbers):\n",
        "    hard_pass.append(random.choice(numbers))\n",
        "\n",
        "# print(hard_pass)\n",
        "# Running the shuffle statement to shuffle the password chars to make it more random\n",
        "random.shuffle(hard_pass)\n",
        "\n",
        "# Printing the final password\n",
        "#print(hard_pass)\n",
        "\n",
        "# Joining list elements into a single word and printing of the Hard Password\n",
        "single_word_hard_pass = ''.join(hard_pass)\n",
        "print(single_word_hard_pass)\n",
        "\n",
        "\n"
      ]
    }
  ]
}