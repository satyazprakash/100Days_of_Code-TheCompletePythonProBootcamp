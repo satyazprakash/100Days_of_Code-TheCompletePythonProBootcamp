{
  "nbformat": 4,
  "nbformat_minor": 0,
  "metadata": {
    "colab": {
      "provenance": [],
      "authorship_tag": "ABX9TyPouj90m52vHqUncEpOti3A",
      "include_colab_link": true
    },
    "kernelspec": {
      "name": "python3",
      "display_name": "Python 3"
    },
    "language_info": {
      "name": "python"
    }
  },
  "cells": [
    {
      "cell_type": "markdown",
      "metadata": {
        "id": "view-in-github",
        "colab_type": "text"
      },
      "source": [
        "<a href=\"https://colab.research.google.com/github/satyazprakash/100Days_of_Code-TheCompletePythonProBootcamp/blob/main/Day3_Python_Treasure_Hunt_Project_v2.ipynb\" target=\"_parent\"><img src=\"https://colab.research.google.com/assets/colab-badge.svg\" alt=\"Open In Colab\"/></a>"
      ]
    },
    {
      "cell_type": "code",
      "execution_count": null,
      "metadata": {
        "id": "tC8BgpRiYaeW"
      },
      "outputs": [],
      "source": [
        "print(r'''\n",
        "*******************************************************************************\n",
        "          |                   |                  |                     |\n",
        " _________|________________.=\"\"_;=.______________|_____________________|_______\n",
        "|                   |  ,-\"_,=\"\"     `\"=.|                  |\n",
        "|___________________|__\"=._o`\"-._        `\"=.______________|___________________\n",
        "          |                `\"=._o`\"=._      _`\"=._                     |\n",
        " _________|_____________________:=._o \"=._.\"_.-=\"'\"=.__________________|_______\n",
        "|                   |    __.--\" , ; `\"=._o.\" ,-\"\"\"-._ \".   |\n",
        "|___________________|_._\"  ,. .` ` `` ,  `\"-._\"-._   \". '__|___________________\n",
        "          |           |o`\"=._` , \"` `; .\". ,  \"-._\"-._; ;              |\n",
        " _________|___________| ;`-.o`\"=._; .\" ` '`.\"\\ ` . \"-._ /_______________|_______\n",
        "|                   | |o ;    `\"-.o`\"=._``  '` \" ,__.--o;   |\n",
        "|___________________|_| ;     (#) `-.o `\"=.`_.--\"_o.-; ;___|___________________\n",
        "____/______/______/___|o;._    \"      `\".o|o_.--\"    ;o;____/______/______/____\n",
        "/______/______/______/_\"=._o--._        ; | ;        ; ;/______/______/______/_\n",
        "____/______/______/______/__\"=._o--._   ;o|o;     _._;o;____/______/______/____\n",
        "/______/______/______/______/____\"=._o._; | ;_.--\"o.--\"_/______/______/______/_\n",
        "____/______/______/______/______/_____\"=.o|o_.--\"\"___/______/______/______/____\n",
        "/______/______/______/______/______/______/______/______/______/______/_____ /\n",
        "*******************************************************************************\n",
        "''')\n",
        "print(\"Welcome to Treasure Island.\")\n",
        "print(\"Your mission is to find the treasure.\")\n",
        "choice1 = input('You\\'re at a crossroad, where do you want to go? '\n",
        "                'Type \"left\" or \"right\".\\n').lower()\n",
        "\n",
        "if choice1 == \"left\":\n",
        "    choice2 = input('You\\'ve come to a lake. '\n",
        "                    'There is an island in the middle of the lake. '\n",
        "                    'Type \"wait\" to wait for a boat. '\n",
        "                    'Type \"swim\" to swim across.\\n').lower()\n",
        "    if choice2 == \"wait\":\n",
        "        choice3 = input(\"You arrive at the island unharmed. \"\n",
        "                        \"There is house with 3 doors. One red, \"\n",
        "                        \"one yellow and one blue. \"\n",
        "                        \"Which colour do you choose?\\n\").lower()\n",
        "        if choice3 == \"red\":\n",
        "            print(\"It's a room full of fire. Game Over\")\n",
        "        elif choice3 == \"yellow\":\n",
        "            print(\"You found the treasure. You Win!\")\n",
        "        elif choice3 == \"blue\":\n",
        "            print(\"You enter a room of beasts. Game Over.\")\n",
        "        else:\n",
        "            print(\"You chose a door that doesn't exist. Game Over.\")\n",
        "    else:\n",
        "        print(\"You got attacked by an angry trout. Game Over.\")\n",
        "\n",
        "else:\n",
        "    print(\"You fell in to a hole. Game Over.\")\n"
      ]
    }
  ]
}