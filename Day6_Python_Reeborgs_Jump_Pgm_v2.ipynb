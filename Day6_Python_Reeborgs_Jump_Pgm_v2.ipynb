{
  "nbformat": 4,
  "nbformat_minor": 0,
  "metadata": {
    "colab": {
      "provenance": [],
      "authorship_tag": "ABX9TyPAi0qsKBWGYRA/MD1weWqN",
      "include_colab_link": true
    },
    "kernelspec": {
      "name": "python3",
      "display_name": "Python 3"
    },
    "language_info": {
      "name": "python"
    }
  },
  "cells": [
    {
      "cell_type": "markdown",
      "metadata": {
        "id": "view-in-github",
        "colab_type": "text"
      },
      "source": [
        "<a href=\"https://colab.research.google.com/github/satyazprakash/100Days_of_Code-TheCompletePythonProBootcamp/blob/main/Day6_Python_Reeborgs_Jump_Pgm_v2.ipynb\" target=\"_parent\"><img src=\"https://colab.research.google.com/assets/colab-badge.svg\" alt=\"Open In Colab\"/></a>"
      ]
    },
    {
      "cell_type": "code",
      "execution_count": null,
      "metadata": {
        "id": "ZL22XWSVsbbJ"
      },
      "outputs": [],
      "source": [
        "# Reeborgs Jump program to reach the final stage.\n",
        "# https://reeborg.ca/reeborg.html?lang=en&mode=python&menu=worlds%2Fmenus%2Freeborg_intro_en.json&name=Hurdle%201&url=worlds%2Ftutorial_en%2Fhurdle1.json\n",
        "\n",
        "def turn_right():\n",
        "    turn_left()\n",
        "    turn_left()\n",
        "    turn_left()\n",
        "\n",
        "def jump():\n",
        "    move()\n",
        "    turn_left()\n",
        "    move()\n",
        "    turn_right()\n",
        "    move()\n",
        "    turn_right()\n",
        "    move()\n",
        "    turn_left()\n",
        "\n",
        "# jump()\n",
        "# jump()\n",
        "# jump()\n",
        "# jump()\n",
        "# jump()\n",
        "# jump()\n",
        "\n",
        "\n",
        "for i in range (6):\n",
        "  jump()"
      ]
    },
    {
      "cell_type": "code",
      "source": [
        "# Reeborgs  MOve 1 step Turn right and come to original Position in end\n",
        "# # https://reeborg.ca/reeborg.html?lang=en&mode=python&menu=worlds%2Fmenus%2Freeborg_intro_en.json&name=Alone&url=worlds%2Ftutorial_en%2Falone.json\n",
        "\n",
        "\n",
        "def turn_right():\n",
        "    turn_left()\n",
        "    turn_left()\n",
        "    turn_left()\n",
        "\n",
        "turn_left()\n",
        "move()\n",
        "turn_right()\n",
        "move()\n",
        "turn_right()\n",
        "move()\n",
        "turn_right()\n",
        "move()"
      ],
      "metadata": {
        "id": "NxIrjUGys0p3"
      },
      "execution_count": null,
      "outputs": []
    },
    {
      "cell_type": "code",
      "source": [
        "# Indentation in Function\n",
        "\n",
        "def my_function():\n",
        "    if sky=='clear':\n",
        "      print(\"Sky is Blue\")\n",
        "    elif sky == 'cloudy':\n",
        "      print(\"grey\")\n",
        "    print(\"Hello\")\n",
        "print(\"world\")\n",
        "\n"
      ],
      "metadata": {
        "colab": {
          "base_uri": "https://localhost:8080/"
        },
        "id": "jPm8qS4ow1w1",
        "outputId": "1afa0836-06db-446b-f026-741e70b6a0cc"
      },
      "execution_count": 1,
      "outputs": [
        {
          "output_type": "stream",
          "name": "stdout",
          "text": [
            "world\n"
          ]
        }
      ]
    },
    {
      "cell_type": "code",
      "source": [
        "# Reeborgs_jump progream via While Loop\n",
        "# https://reeborg.ca/reeborg.html?lang=en&mode=python&menu=worlds%2Fmenus%2Freeborg_intro_en.json&name=Hurdle%202&url=worlds%2Ftutorial_en%2Fhurdle2.json\n",
        "\n",
        "\n",
        "def turn_right():\n",
        "    turn_left()\n",
        "    turn_left()\n",
        "    turn_left()\n",
        "\n",
        "def jump():\n",
        "    move()\n",
        "    turn_left()\n",
        "    move()\n",
        "    turn_right()\n",
        "    move()\n",
        "    turn_right()\n",
        "    move()\n",
        "    turn_left()\n",
        "\n",
        "no_of_hurdles=6\n",
        "while no_of_hurdles >0:\n",
        "    jump()\n",
        "    no_of_hurdles -= 1\n",
        "    print(no_of_hurdles)\n",
        "\n"
      ],
      "metadata": {
        "id": "FHsOV_KnBQnq"
      },
      "execution_count": null,
      "outputs": []
    },
    {
      "cell_type": "code",
      "source": [
        "# Reeborgs Program Hurdle 2.\n",
        "# https://reeborg.ca/reeborg.html?lang=en&mode=python&menu=worlds%2Fmenus%2Freeborg_intro_en.json&name=Hurdle%202&url=worlds%2Ftutorial_en%2Fhurdle2.json\n",
        "\n",
        "def turn_right():\n",
        "    turn_left()\n",
        "    turn_left()\n",
        "    turn_left()\n",
        "\n",
        "def jump():\n",
        "    move()\n",
        "    turn_left()\n",
        "    move()\n",
        "    turn_right()\n",
        "    move()\n",
        "    turn_right()\n",
        "    move()\n",
        "    turn_left()\n",
        "\n",
        "\n",
        "while  not at_goal():\n",
        "    jump()\n"
      ],
      "metadata": {
        "id": "Q1xF16JZHBG1"
      },
      "execution_count": null,
      "outputs": []
    }
  ]
}