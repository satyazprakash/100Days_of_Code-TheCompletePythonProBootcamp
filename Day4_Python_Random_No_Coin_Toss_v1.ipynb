{
  "nbformat": 4,
  "nbformat_minor": 0,
  "metadata": {
    "colab": {
      "provenance": [],
      "authorship_tag": "ABX9TyNHRXROkYqQSB6sg0+H8pJt",
      "include_colab_link": true
    },
    "kernelspec": {
      "name": "python3",
      "display_name": "Python 3"
    },
    "language_info": {
      "name": "python"
    }
  },
  "cells": [
    {
      "cell_type": "markdown",
      "metadata": {
        "id": "view-in-github",
        "colab_type": "text"
      },
      "source": [
        "<a href=\"https://colab.research.google.com/github/satyazprakash/100Days_of_Code-TheCompletePythonProBootcamp/blob/main/Day4_Python_Random_No_Coin_Toss_v1.ipynb\" target=\"_parent\"><img src=\"https://colab.research.google.com/assets/colab-badge.svg\" alt=\"Open In Colab\"/></a>"
      ]
    },
    {
      "cell_type": "code",
      "execution_count": null,
      "metadata": {
        "id": "ObHKCAC1CMkU"
      },
      "outputs": [],
      "source": [
        "# Using Random Module\n",
        "# Using that to create random no and putting if else condition to Toss Coin for HEADS and TAILS\n",
        "\n",
        "import random\n",
        "import my_module\n",
        "\n",
        "rand_num = random.randint(1,10)\n",
        "print(rand_num)\n",
        "\n",
        "print(my_module.my_favourite_number)\n",
        "\n",
        "random_number_0_to_1 = random.random()\n",
        "\n",
        "print(random_number_0_to_1)\n",
        "print(random_number_0_to_1 * 10)\n",
        "\n",
        "random_float = random.uniform(1,10)\n",
        "print(random_float)\n",
        "\n",
        "if random_float <= 5:\n",
        "    print(\"Heads\")\n",
        "else:\n",
        "    print(\"Tails\")"
      ]
    }
  ]
}