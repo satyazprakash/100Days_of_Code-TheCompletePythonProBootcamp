{
  "nbformat": 4,
  "nbformat_minor": 0,
  "metadata": {
    "colab": {
      "provenance": [],
      "authorship_tag": "ABX9TyOQXutOVQZfyV6wVkgmG8AI",
      "include_colab_link": true
    },
    "kernelspec": {
      "name": "python3",
      "display_name": "Python 3"
    },
    "language_info": {
      "name": "python"
    }
  },
  "cells": [
    {
      "cell_type": "markdown",
      "metadata": {
        "id": "view-in-github",
        "colab_type": "text"
      },
      "source": [
        "<a href=\"https://colab.research.google.com/github/satyazprakash/100Days_of_Code-TheCompletePythonProBootcamp/blob/main/Day4_Python_Rock_Paper_Scissor_Project_v1.ipynb\" target=\"_parent\"><img src=\"https://colab.research.google.com/assets/colab-badge.svg\" alt=\"Open In Colab\"/></a>"
      ]
    },
    {
      "cell_type": "code",
      "execution_count": 9,
      "metadata": {
        "colab": {
          "base_uri": "https://localhost:8080/"
        },
        "id": "NNBog_5YI4TT",
        "outputId": "c04e4a0e-e728-4012-8769-7df0e085cae4"
      },
      "outputs": [
        {
          "output_type": "stream",
          "name": "stdout",
          "text": [
            "Current Output is : \n",
            "    _______\n",
            "---'   ____)\n",
            "      (_____)\n",
            "      (_____)\n",
            "      (____)\n",
            "---.__(___)\n",
            "\n"
          ]
        }
      ],
      "source": [
        "# importing Random Module\n",
        "\n",
        "import random\n",
        "\n",
        "rock = '''\n",
        "    _______\n",
        "---'   ____)\n",
        "      (_____)\n",
        "      (_____)\n",
        "      (____)\n",
        "---.__(___)\n",
        "'''\n",
        "\n",
        "paper = '''\n",
        "    _______\n",
        "---'   ____)____\n",
        "          ______)\n",
        "          _______)\n",
        "         _______)\n",
        "---.__________)\n",
        "'''\n",
        "\n",
        "scissors = '''\n",
        "    _______\n",
        "---'   ____)____\n",
        "          ______)\n",
        "       __________)\n",
        "      (____)\n",
        "---.__(___)\n",
        "'''\n",
        "\n",
        "# Declaring List having 3 elements.\n",
        "\n",
        "game_r_p_s = [rock, paper, scissors]\n",
        "\n",
        "print(f\"Current Output is : {game_r_p_s[random.randint(0, 2)]}\")  # Printing the random output\n",
        "\n",
        "\n"
      ]
    }
  ]
}