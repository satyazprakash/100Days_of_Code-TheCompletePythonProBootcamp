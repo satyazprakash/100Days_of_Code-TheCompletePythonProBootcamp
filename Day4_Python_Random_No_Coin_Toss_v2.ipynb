{
  "nbformat": 4,
  "nbformat_minor": 0,
  "metadata": {
    "colab": {
      "provenance": [],
      "authorship_tag": "ABX9TyP3NbNaEc5ldU/bVNNWGTgA",
      "include_colab_link": true
    },
    "kernelspec": {
      "name": "python3",
      "display_name": "Python 3"
    },
    "language_info": {
      "name": "python"
    }
  },
  "cells": [
    {
      "cell_type": "markdown",
      "metadata": {
        "id": "view-in-github",
        "colab_type": "text"
      },
      "source": [
        "<a href=\"https://colab.research.google.com/github/satyazprakash/100Days_of_Code-TheCompletePythonProBootcamp/blob/main/Day4_Python_Random_No_Coin_Toss_v2.ipynb\" target=\"_parent\"><img src=\"https://colab.research.google.com/assets/colab-badge.svg\" alt=\"Open In Colab\"/></a>"
      ]
    },
    {
      "cell_type": "code",
      "execution_count": null,
      "metadata": {
        "id": "ObHKCAC1CMkU"
      },
      "outputs": [],
      "source": [
        "# Using Random Module\n",
        "# Using that to create random no and putting if else condition to Toss Coin for HEADS and TAILS\n",
        "\n",
        "import random\n",
        "\n",
        "random_float = random.uniform(1,10)\n",
        "print(random_float)\n",
        "\n",
        "if random_float <= 5:\n",
        "    print(\"Heads\")\n",
        "else:\n",
        "    print(\"Tails\")\n",
        "\n",
        "random_heads_or_tails = random.randint(0,1)\n",
        "\n",
        "if random_heads_or_tails == 0:\n",
        "    print(\"Heads\")\n",
        "else:\n",
        "    print(\"Tails\")"
      ]
    }
  ]
}