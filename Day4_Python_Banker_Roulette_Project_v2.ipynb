{
  "nbformat": 4,
  "nbformat_minor": 0,
  "metadata": {
    "colab": {
      "provenance": [],
      "authorship_tag": "ABX9TyPjeUVeY90pmL8+Jhcnezv2",
      "include_colab_link": true
    },
    "kernelspec": {
      "name": "python3",
      "display_name": "Python 3"
    },
    "language_info": {
      "name": "python"
    }
  },
  "cells": [
    {
      "cell_type": "markdown",
      "metadata": {
        "id": "view-in-github",
        "colab_type": "text"
      },
      "source": [
        "<a href=\"https://colab.research.google.com/github/satyazprakash/100Days_of_Code-TheCompletePythonProBootcamp/blob/main/Day4_Python_Banker_Roulette_Project_v2.ipynb\" target=\"_parent\"><img src=\"https://colab.research.google.com/assets/colab-badge.svg\" alt=\"Open In Colab\"/></a>"
      ]
    },
    {
      "cell_type": "code",
      "execution_count": 4,
      "metadata": {
        "colab": {
          "base_uri": "https://localhost:8080/"
        },
        "id": "jhwPkA3ZF8g4",
        "outputId": "83f291e9-5b70-4c99-99e4-8198470a585d"
      },
      "outputs": [
        {
          "output_type": "stream",
          "name": "stdout",
          "text": [
            "First Way\n",
            "Alice\n",
            "Today is turn of Alice turn to pay.\n",
            "Second Way\n",
            "Alice\n",
            "Today is turn of Emanuel turn to pay.\n"
          ]
        }
      ],
      "source": [
        "# importing Random Module\n",
        "import random as rand\n",
        "\n",
        "# list of frieds in a list\n",
        "friends = [\"Alice\", \"Bob\", \"Charlie\", \"David\", \"Emanuel\"]\n",
        "\n",
        "# First Way:\n",
        "print(\"First Way\")\n",
        "whose_turn = rand.randint(0,4)\n",
        "print(friends[whose_turn])\n",
        "print(f\"Today is turn of {friends[whose_turn]} turn to pay.\")\n",
        "\n",
        "# Selecting Random name of person from the list using randint function.\n",
        "\n",
        "#Second way\n",
        "print(\"Second Way\")\n",
        "print(rand.choice(friends))\n",
        "print(f\"Today is turn of {rand.choice(friends)} turn to pay.\")\n"
      ]
    }
  ]
}