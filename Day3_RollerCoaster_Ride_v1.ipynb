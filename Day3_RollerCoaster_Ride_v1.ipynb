{
  "nbformat": 4,
  "nbformat_minor": 0,
  "metadata": {
    "colab": {
      "provenance": [],
      "authorship_tag": "ABX9TyMPKHBn74xbrTYSNFD8ds18",
      "include_colab_link": true
    },
    "kernelspec": {
      "name": "python3",
      "display_name": "Python 3"
    },
    "language_info": {
      "name": "python"
    }
  },
  "cells": [
    {
      "cell_type": "markdown",
      "metadata": {
        "id": "view-in-github",
        "colab_type": "text"
      },
      "source": [
        "<a href=\"https://colab.research.google.com/github/satyazprakash/100Days_of_Code-TheCompletePythonProBootcamp/blob/main/Day3_RollerCoaster_Ride_v1.ipynb\" target=\"_parent\"><img src=\"https://colab.research.google.com/assets/colab-badge.svg\" alt=\"Open In Colab\"/></a>"
      ]
    },
    {
      "cell_type": "code",
      "execution_count": null,
      "metadata": {
        "id": "xPjGxPQKJhPs"
      },
      "outputs": [],
      "source": [
        "print(\"Welcome to the rollercoaster!\")\n",
        "height = int(input(\"What is your height in cm? \"))\n",
        "bill = 0\n",
        "\n",
        "if height >= 120:\n",
        "    print(\"You can ride the rollercoaster!\")\n",
        "    age = int(input(\"What is your age? \"))\n",
        "    if age < 12:\n",
        "        bill = 5\n",
        "        print(\"Child tickets are $5.\")\n",
        "    elif age <= 18:\n",
        "        bill = 7\n",
        "        print(\"Youth tickets are $7.\")\n",
        "    elif age <=45 and age <=55: # Alternate way for same condition 45 <= age <= 55\n",
        "        print(\"Everything is going to be ok. Have a free ride on us!\")\n",
        "    else:\n",
        "        bill = 12\n",
        "        print(\"Adult tickets are $12.\")\n",
        "\n",
        "    wants_photo = input(\"Do you want a photo taken? Y or N. \")\n",
        "    if wants_photo == \"Y\" and (age < 45 or age > 55):\n",
        "        bill += 3\n",
        "\n",
        "    print(f\"Your final bill is ${bill}\")\n",
        "\n",
        "else:\n",
        "    print(\"Sorry, you have to grow taller before you can ride.\")\n"
      ]
    }
  ]
}