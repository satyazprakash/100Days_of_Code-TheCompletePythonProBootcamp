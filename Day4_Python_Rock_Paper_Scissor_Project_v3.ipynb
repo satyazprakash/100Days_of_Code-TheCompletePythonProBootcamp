{
  "nbformat": 4,
  "nbformat_minor": 0,
  "metadata": {
    "colab": {
      "provenance": [],
      "authorship_tag": "ABX9TyNpzuzdfZKNkDx0tTfiFlgC",
      "include_colab_link": true
    },
    "kernelspec": {
      "name": "python3",
      "display_name": "Python 3"
    },
    "language_info": {
      "name": "python"
    }
  },
  "cells": [
    {
      "cell_type": "markdown",
      "metadata": {
        "id": "view-in-github",
        "colab_type": "text"
      },
      "source": [
        "<a href=\"https://colab.research.google.com/github/satyazprakash/100Days_of_Code-TheCompletePythonProBootcamp/blob/main/Day4_Python_Rock_Paper_Scissor_Project_v3.ipynb\" target=\"_parent\"><img src=\"https://colab.research.google.com/assets/colab-badge.svg\" alt=\"Open In Colab\"/></a>"
      ]
    },
    {
      "cell_type": "code",
      "execution_count": null,
      "metadata": {
        "colab": {
          "base_uri": "https://localhost:8080/"
        },
        "id": "nxtl_Zmvi7vT",
        "outputId": "7d479ff7-901d-478b-f199-61d572077bea"
      },
      "outputs": [
        {
          "output_type": "stream",
          "name": "stdout",
          "text": [
            "\n",
            "\n",
            "What do you choose? 0 for Rock, 1 for Paper, 2 for Scissors. -1 to EXIT \n",
            "0\n",
            " ROCK\n",
            "    _______\n",
            "---'   ____)\n",
            "      (_____)\n",
            "      (_____)\n",
            "      (____)\n",
            "---.__(___)\n",
            "\n",
            "Computer Chose: \n",
            " ROCK\n",
            "    _______\n",
            "---'   ____)\n",
            "      (_____)\n",
            "      (_____)\n",
            "      (____)\n",
            "---.__(___)\n",
            "\n",
            "It is a Draw!\n"
          ]
        }
      ],
      "source": [
        "import random\n",
        "rock = ''' ROCK\n",
        "    _______\n",
        "---'   ____)\n",
        "      (_____)\n",
        "      (_____)\n",
        "      (____)\n",
        "---.__(___)\n",
        "'''\n",
        "\n",
        "paper = ''' PAPER\n",
        "    _______\n",
        "---'   ____)____\n",
        "          ______)\n",
        "          _______)\n",
        "         _______)\n",
        "---.__________)\n",
        "'''\n",
        "\n",
        "scissors = ''' SCISSORS\n",
        "    _______\n",
        "---'   ____)____\n",
        "          ______)\n",
        "       __________)\n",
        "      (____)\n",
        "---.__(___)\n",
        "'''\n",
        "game_images = [rock, paper, scissors]\n",
        "\n",
        "while True:\n",
        "    user_choice = int(input(\"\\n\\nWhat do you choose? 0 for Rock, 1 for Paper, 2 for Scissors. -1 to EXIT \\n\"))\n",
        "    if user_choice == -1:\n",
        "        break\n",
        "\n",
        "# Note: it's worth checking if the user has made a valid choice before the next line of code.\n",
        "# If the user typed somthing other than 0, 1 or 2 the next line will give you an error.\n",
        "# You could for example write:\n",
        "\n",
        "    if user_choice  >= 0 and user_choice<= 2:\n",
        "        print(game_images[user_choice])\n",
        "\n",
        "    computer_choice = random.randint(0, 2)\n",
        "    print(\"Computer Chose: \")\n",
        "    print (game_images[computer_choice])\n",
        "\n",
        "    if user_choice >= 3 or user_choice <0:\n",
        "        print(\"You types and invalid number, You lose !\")\n",
        "    elif user_choice == 0 and computer_choice == 2:\n",
        "        print(\"You Win! \")\n",
        "    elif computer_choice == 0 and user_choice == 2:\n",
        "        print(\"You Lose!\")\n",
        "    elif computer_choice > user_choice:\n",
        "        print(\"You Lose !\")\n",
        "    elif user_choice > computer_choice:\n",
        "        print(\"You Win! \")\n",
        "    elif computer_choice == user_choice:\n",
        "        print(\"It is a Draw!\")\n",
        "\n"
      ]
    }
  ]
}