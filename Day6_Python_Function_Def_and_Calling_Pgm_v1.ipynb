{
  "nbformat": 4,
  "nbformat_minor": 0,
  "metadata": {
    "colab": {
      "provenance": [],
      "authorship_tag": "ABX9TyP+/IV4UcdYLDezYVMJvDns",
      "include_colab_link": true
    },
    "kernelspec": {
      "name": "python3",
      "display_name": "Python 3"
    },
    "language_info": {
      "name": "python"
    }
  },
  "cells": [
    {
      "cell_type": "markdown",
      "metadata": {
        "id": "view-in-github",
        "colab_type": "text"
      },
      "source": [
        "<a href=\"https://colab.research.google.com/github/satyazprakash/100Days_of_Code-TheCompletePythonProBootcamp/blob/main/Day6_Python_Function_Def_and_Calling_Pgm_v1.ipynb\" target=\"_parent\"><img src=\"https://colab.research.google.com/assets/colab-badge.svg\" alt=\"Open In Colab\"/></a>"
      ]
    },
    {
      "cell_type": "code",
      "source": [
        "\n",
        "# Defining a Function\n",
        "# Built In Functions\n",
        "# print(\"Hello\")\n",
        "# num_char = len(\"Hello\")\n",
        "# print(num_char)\n",
        "\n",
        "def my_function():\n",
        "    print(\"Hello\")\n",
        "    print(\"bye\")\n",
        "    # Do This\n",
        "    # Then do this\n",
        "    # Finally do this\n",
        "\n",
        "def get_user_name():\n",
        "    name=input(\"Enter your Name : \")\n",
        "    print(f\"Hello, {name}\")\n",
        "    print(f\"Length of name entered is : {len(name)}\")\n",
        "\n",
        "# Calling Function\n",
        "my_function()\n",
        "get_user_name()\n",
        "\n",
        "\n"
      ],
      "metadata": {
        "id": "YIlzolj8fx_w"
      },
      "execution_count": null,
      "outputs": []
    }
  ]
}