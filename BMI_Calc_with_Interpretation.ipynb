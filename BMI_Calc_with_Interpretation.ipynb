{
  "nbformat": 4,
  "nbformat_minor": 0,
  "metadata": {
    "colab": {
      "provenance": [],
      "authorship_tag": "ABX9TyMlB7V260IJfFOPAPBNx164",
      "include_colab_link": true
    },
    "kernelspec": {
      "name": "python3",
      "display_name": "Python 3"
    },
    "language_info": {
      "name": "python"
    }
  },
  "cells": [
    {
      "cell_type": "markdown",
      "metadata": {
        "id": "view-in-github",
        "colab_type": "text"
      },
      "source": [
        "<a href=\"https://colab.research.google.com/github/satyazprakash/100Days_of_Code-TheCompletePythonProBootcamp/blob/main/BMI_Calc_with_Interpretation.ipynb\" target=\"_parent\"><img src=\"https://colab.research.google.com/assets/colab-badge.svg\" alt=\"Open In Colab\"/></a>"
      ]
    },
    {
      "cell_type": "code",
      "execution_count": null,
      "metadata": {
        "id": "BIPzGLZBQdVz"
      },
      "outputs": [],
      "source": [
        "#BMI Calculator with Interpretations\n",
        "\n",
        "# weight = 85\n",
        "# height = 1.85\n",
        "height = float(input(\"Please enter your weight in CM's: \"))\n",
        "weight = float(input(\"Please enter your weight in Kg's: \"))\n",
        "\n",
        "bmi = weight / (height ** 2)\n",
        "\n",
        "# 🚨 Do not modify the values above\n",
        "# Write your code below 👇\n",
        "\n",
        "if bmi < 18.5:\n",
        "    print(\"You are underweight\")\n",
        "elif bmi < 25:\n",
        "    print(\"normal weight\")\n",
        "elif bmi < 30:\n",
        "    print(\"overweight\")\n"
      ]
    }
  ]
}