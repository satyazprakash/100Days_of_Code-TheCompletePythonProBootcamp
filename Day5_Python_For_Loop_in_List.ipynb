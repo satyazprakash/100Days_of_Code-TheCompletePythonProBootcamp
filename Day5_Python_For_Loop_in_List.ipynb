{
  "nbformat": 4,
  "nbformat_minor": 0,
  "metadata": {
    "colab": {
      "provenance": [],
      "authorship_tag": "ABX9TyNsJiWfxee0HasH2TSBecxP",
      "include_colab_link": true
    },
    "kernelspec": {
      "name": "python3",
      "display_name": "Python 3"
    },
    "language_info": {
      "name": "python"
    }
  },
  "cells": [
    {
      "cell_type": "markdown",
      "metadata": {
        "id": "view-in-github",
        "colab_type": "text"
      },
      "source": [
        "<a href=\"https://colab.research.google.com/github/satyazprakash/100Days_of_Code-TheCompletePythonProBootcamp/blob/main/Day5_Python_For_Loop_in_List.ipynb\" target=\"_parent\"><img src=\"https://colab.research.google.com/assets/colab-badge.svg\" alt=\"Open In Colab\"/></a>"
      ]
    },
    {
      "cell_type": "code",
      "execution_count": null,
      "metadata": {
        "id": "XhHE-btmx51m"
      },
      "outputs": [],
      "source": [
        "# Using For loop to Traverse through the list items given\n",
        "\n",
        "fruits = [\"Apple\", \"Peach\", \"Pear\"]\n",
        "\n",
        "for fruit in fruits:\n",
        "    print(fruit)\n",
        "    print(fruit + \"Pie\")\n",
        "    print(fruits)\n",
        "\n",
        "print(fruits)\n",
        "print(\"Hello\")\n",
        "\n",
        "\n"
      ]
    }
  ]
}