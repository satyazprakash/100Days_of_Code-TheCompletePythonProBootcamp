{
  "nbformat": 4,
  "nbformat_minor": 0,
  "metadata": {
    "colab": {
      "provenance": [],
      "authorship_tag": "ABX9TyMsewq7QIvxgaDSIDNTJdoD",
      "include_colab_link": true
    },
    "kernelspec": {
      "name": "python3",
      "display_name": "Python 3"
    },
    "language_info": {
      "name": "python"
    }
  },
  "cells": [
    {
      "cell_type": "markdown",
      "metadata": {
        "id": "view-in-github",
        "colab_type": "text"
      },
      "source": [
        "<a href=\"https://colab.research.google.com/github/satyazprakash/100Days_of_Code-TheCompletePythonProBootcamp/blob/main/Day2Project_BMI_Calculator.ipynb\" target=\"_parent\"><img src=\"https://colab.research.google.com/assets/colab-badge.svg\" alt=\"Open In Colab\"/></a>"
      ]
    },
    {
      "cell_type": "code",
      "execution_count": 6,
      "metadata": {
        "colab": {
          "base_uri": "https://localhost:8080/"
        },
        "id": "WiRjvcd1Mr5M",
        "outputId": "b6007397-7864-4730-c947-b2591dd87051"
      },
      "outputs": [
        {
          "output_type": "stream",
          "name": "stdout",
          "text": [
            "Input the height of person in Meters: 1.75\n",
            "Input the weight of the person in Kg's: 71\n",
            "BMI Rounded to 2 places decimal is 26.67\n"
          ]
        }
      ],
      "source": [
        "# This Project is for calculating the BMI of a Person.\n",
        "\n",
        "height=float(input(\"Input the height of person in Meters: \"))\n",
        "weight=float(input(\"Input the weight of the person in Kg's: \"))\n",
        "\n",
        "bmi = weight / height ** height\n",
        "\n",
        "print(f\"BMI Rounded to 2 places decimal is {round(bmi,2)}\")\n",
        "\n"
      ]
    }
  ]
}