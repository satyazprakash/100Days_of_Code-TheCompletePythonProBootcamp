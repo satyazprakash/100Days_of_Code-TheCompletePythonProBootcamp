{
  "nbformat": 4,
  "nbformat_minor": 0,
  "metadata": {
    "colab": {
      "provenance": [],
      "authorship_tag": "ABX9TyNEYlBGv/R6ctvfDml0Nzm3",
      "include_colab_link": true
    },
    "kernelspec": {
      "name": "python3",
      "display_name": "Python 3"
    },
    "language_info": {
      "name": "python"
    }
  },
  "cells": [
    {
      "cell_type": "markdown",
      "metadata": {
        "id": "view-in-github",
        "colab_type": "text"
      },
      "source": [
        "<a href=\"https://colab.research.google.com/github/satyazprakash/100Days_of_Code-TheCompletePythonProBootcamp/blob/main/Day6_Python_Reeborgs_Jump_Hurdle_3_Pgm_v2.ipynb\" target=\"_parent\"><img src=\"https://colab.research.google.com/assets/colab-badge.svg\" alt=\"Open In Colab\"/></a>"
      ]
    },
    {
      "cell_type": "code",
      "source": [
        "# Reeborgs Program Hurdle 3\n",
        "# https://reeborg.ca/reeborg.html?lang=en&mode=python&menu=worlds%2Fmenus%2Freeborg_intro_en.json&name=Hurdle%203&url=worlds%2Ftutorial_en%2Fhurdle3.json\n",
        "\n",
        "def turn_right():\n",
        "    turn_left()\n",
        "    turn_left()\n",
        "    turn_left()\n",
        "def jump():\n",
        "#    move()\n",
        "    turn_left()\n",
        "    move()\n",
        "    turn_right()\n",
        "    move()\n",
        "    turn_right()\n",
        "    move()\n",
        "    turn_left()\n",
        "\n",
        "\n",
        "while not at_goal():\n",
        "    if front_is_clear() == True:\n",
        "        move()\n",
        "    elif wall_in_front() == True:\n",
        "        jump()\n",
        "\n"
      ],
      "metadata": {
        "id": "w2W4_2DxMxee"
      },
      "execution_count": null,
      "outputs": []
    },
    {
      "cell_type": "code",
      "source": [
        "# Reeborgs Program Hurdle 3\n",
        "# https://reeborg.ca/reeborg.html?lang=en&mode=python&menu=worlds%2Fmenus%2Freeborg_intro_en.json&name=Hurdle%203&url=worlds%2Ftutorial_en%2Fhurdle3.json\n",
        "\n",
        "\n",
        "def turn_right():\n",
        "    turn_left()\n",
        "    turn_left()\n",
        "    turn_left()\n",
        "def jump():\n",
        "    turn_left()\n",
        "    move()\n",
        "    turn_right()\n",
        "    move()\n",
        "    turn_right()\n",
        "    move()\n",
        "    turn_left()\n",
        "#while not at_goal():\n",
        "#    if front_is_clear() == True:\n",
        "#        move()\n",
        "#    elif wall_in_front() == True:\n",
        "#        jump()\n",
        "\n",
        "while not at_goal():\n",
        "    if wall_in_front() == True:\n",
        "        jump()\n",
        "    else:\n",
        "        move()"
      ],
      "metadata": {
        "id": "_RcPI_T2W7v_"
      },
      "execution_count": null,
      "outputs": []
    }
  ]
}