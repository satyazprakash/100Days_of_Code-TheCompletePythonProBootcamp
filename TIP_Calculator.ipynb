{
  "nbformat": 4,
  "nbformat_minor": 0,
  "metadata": {
    "colab": {
      "provenance": [],
      "authorship_tag": "ABX9TyOpEmHUPdHfHBogUzHjroz7",
      "include_colab_link": true
    },
    "kernelspec": {
      "name": "python3",
      "display_name": "Python 3"
    },
    "language_info": {
      "name": "python"
    }
  },
  "cells": [
    {
      "cell_type": "markdown",
      "metadata": {
        "id": "view-in-github",
        "colab_type": "text"
      },
      "source": [
        "<a href=\"https://colab.research.google.com/github/satyazprakash/100Days_of_Code-TheCompletePythonProBootcamp/blob/main/TIP_Calculator.ipynb\" target=\"_parent\"><img src=\"https://colab.research.google.com/assets/colab-badge.svg\" alt=\"Open In Colab\"/></a>"
      ]
    },
    {
      "cell_type": "code",
      "execution_count": null,
      "metadata": {
        "id": "PWW_oXJUMgIZ"
      },
      "outputs": [],
      "source": [
        "# This Project is for TIP Calculation post Food in restaurant\n",
        "\n",
        "print(\"Welcome to the TIP Calculator!\")\n",
        "\n",
        "total_bill=float(input(\"What was the total Bill? $\"))\n",
        "tip_to_give=int(input(\"How much TIP would you like to give ? 10, 12 or 15?\"))\n",
        "total_people=int(input(\"How many people to split the bill?\"))\n",
        "\n",
        "tip_calc = total_bill * (tip_to_give/100)\n",
        "total_bill = total_bill + tip_calc\n",
        "per_person_bill = total_bill/total_people\n",
        "\n",
        "print(f\"Each Person should pay: ${round(per_person_bill,2)}\")"
      ]
    }
  ]
}