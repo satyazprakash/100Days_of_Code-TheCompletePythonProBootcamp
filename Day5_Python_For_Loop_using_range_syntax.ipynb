{
  "nbformat": 4,
  "nbformat_minor": 0,
  "metadata": {
    "colab": {
      "provenance": [],
      "authorship_tag": "ABX9TyP3qdzKVI5/yZidRpFKPwtf",
      "include_colab_link": true
    },
    "kernelspec": {
      "name": "python3",
      "display_name": "Python 3"
    },
    "language_info": {
      "name": "python"
    }
  },
  "cells": [
    {
      "cell_type": "markdown",
      "metadata": {
        "id": "view-in-github",
        "colab_type": "text"
      },
      "source": [
        "<a href=\"https://colab.research.google.com/github/satyazprakash/100Days_of_Code-TheCompletePythonProBootcamp/blob/main/Day5_Python_For_Loop_using_range_syntax.ipynb\" target=\"_parent\"><img src=\"https://colab.research.google.com/assets/colab-badge.svg\" alt=\"Open In Colab\"/></a>"
      ]
    },
    {
      "cell_type": "code",
      "execution_count": 1,
      "metadata": {
        "colab": {
          "base_uri": "https://localhost:8080/"
        },
        "id": "XhHE-btmx51m",
        "outputId": "fe2880b3-5438-4c55-9d18-f87476e00ea6"
      },
      "outputs": [
        {
          "output_type": "stream",
          "name": "stdout",
          "text": [
            "The value of iterator is 1, we are looping with range construct\n",
            "The value of iterator is 2, we are looping with range construct\n",
            "The value of iterator is 3, we are looping with range construct\n",
            "The value of iterator is 4, we are looping with range construct\n",
            "The value of iterator is 5, we are looping with range construct\n",
            "The value of iterator is 6, we are looping with range construct\n",
            "The value of iterator is 7, we are looping with range construct\n",
            "The value of iterator is 8, we are looping with range construct\n",
            "The value of iterator is 9, we are looping with range construct\n",
            "We are looping using range with increment by 2 construct, value of iterator is : 1 \n",
            "We are looping using range with increment by 2 construct, value of iterator is : 3 \n",
            "We are looping using range with increment by 2 construct, value of iterator is : 5 \n",
            "We are looping using range with increment by 2 construct, value of iterator is : 7 \n",
            "We are looping using range with increment by 2 construct, value of iterator is : 9 \n",
            "The sum of Gauss Challange is 5050\n"
          ]
        }
      ],
      "source": [
        "# This is having sample program to use range function with FOR loop.\n",
        "\n",
        "print(range(1, 10))  # Doesn't do anything\n",
        "\n",
        "# Way 1 \"range(1, 10) or a <= range(a, b) < b\", by default the increment happens with 1 value\n",
        "for i in range(1,10):\n",
        "    print(f\"The value of iterator is {i}, we are looping with range construct\")\n",
        "\n",
        "# Way 2, we have introduced 3rd value which tell by how much the increment should happen in loop.\n",
        "for i in range(1,10,2):\n",
        "    print(f\"We are looping using range with increment by 2 construct, value of iterator is : {i} \")\n",
        "\n",
        "#PAUSE 1 - The Gauss Challenge\n",
        "#Work out the total of the numbers between 1 and 100, inclusive of both 1 and 100.\n",
        "\n",
        "gauss_sum = 0\n",
        "\n",
        "for i in range(1, 101):\n",
        "    gauss_sum = gauss_sum + i\n",
        "print(f\"The sum of Gauss Challange is {gauss_sum}\")\n",
        "\n",
        "\n",
        "\n",
        "\n",
        "\n",
        "\n"
      ]
    }
  ]
}