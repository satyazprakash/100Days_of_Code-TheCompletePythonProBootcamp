{
  "nbformat": 4,
  "nbformat_minor": 0,
  "metadata": {
    "colab": {
      "provenance": [],
      "authorship_tag": "ABX9TyOvkW3fd/I3uI8mNa3yBgcT",
      "include_colab_link": true
    },
    "kernelspec": {
      "name": "python3",
      "display_name": "Python 3"
    },
    "language_info": {
      "name": "python"
    }
  },
  "cells": [
    {
      "cell_type": "markdown",
      "metadata": {
        "id": "view-in-github",
        "colab_type": "text"
      },
      "source": [
        "<a href=\"https://colab.research.google.com/github/satyazprakash/100Days_of_Code-TheCompletePythonProBootcamp/blob/main/Day6_Python_Reeborgs_Jump_Hurdle_4_Pgm_v1.ipynb\" target=\"_parent\"><img src=\"https://colab.research.google.com/assets/colab-badge.svg\" alt=\"Open In Colab\"/></a>"
      ]
    },
    {
      "cell_type": "code",
      "source": [
        "# Reeborgs Program Hurdle 4\n",
        "# https://reeborg.ca/reeborg.html?lang=en&mode=python&menu=worlds%2Fmenus%2Freeborg_intro_en.json&name=Hurdle%204&url=worlds%2Ftutorial_en%2Fhurdle4.json\n",
        "\n",
        "def turn_right():\n",
        "    turn_left()\n",
        "    turn_left()\n",
        "    turn_left()\n",
        "def jump():\n",
        "    turn_left()\n",
        "\n",
        "    while (front_is_clear() == True & wall_on_right()==True):\n",
        "        move()\n",
        "\n",
        "    turn_right()\n",
        "    move()\n",
        "    turn_right()\n",
        "    move()\n",
        "\n",
        "    while (front_is_clear() == True & wall_on_right()==True & (not at_goal()) ):\n",
        "        move()\n",
        "    turn_left()\n",
        "\n",
        "while not at_goal():\n",
        "    if wall_in_front() == True:\n",
        "        jump()\n",
        "    if front_is_clear() == True & not at_goal():\n",
        "        move()"
      ],
      "metadata": {
        "id": "w2W4_2DxMxee"
      },
      "execution_count": null,
      "outputs": []
    }
  ]
}